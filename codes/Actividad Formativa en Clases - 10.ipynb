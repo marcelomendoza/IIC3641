{
 "cells": [
  {
   "cell_type": "markdown",
   "id": "39e0e42c",
   "metadata": {},
   "source": [
    "# IIC-3641 GML UC"
   ]
  },
  {
   "cell_type": "markdown",
   "id": "d6d67e24-ad70-4e3d-ad62-98629137df29",
   "metadata": {},
   "source": [
    "## Actividad en clase\n",
    "\n",
    "Vamos a usar el modelo HGNN para trabajar en esta actividad.\n",
    "\n",
    "- Corra el modelo HGNN y vea que puede reproducir el ejemplo de la clase.\n",
    "- Use el dataset **Citeseer** que viene en dgl.data. \n",
    "- Entrene el modelo HGNN. Evalúe y modifique los hiperparámetros de manera que llegue a acc test ~ 0.7.\n",
    "- ¿Cuál es el efecto de bajar/subir dropout?\n",
    "- ¿Cuál es el efecto de bajar/subir la hidden dim?\n",
    "- Cuando termine, me avisa para entregarle una **L (logrado)**.\n",
    "- Recuerde que las L otorgan un bono en la nota final de la asignatura.\n",
    "\n",
    "***Tiene hasta el final de la clase.***"
   ]
  },
  {
   "cell_type": "code",
   "execution_count": 1,
   "id": "7a576565",
   "metadata": {},
   "outputs": [
    {
     "name": "stdout",
     "output_type": "stream",
     "text": [
      "2.4.0+cu121\n"
     ]
    }
   ],
   "source": [
    "import torch\n",
    "print(torch.__version__)"
   ]
  },
  {
   "cell_type": "code",
   "execution_count": 2,
   "id": "883ad80a",
   "metadata": {},
   "outputs": [
    {
     "name": "stderr",
     "output_type": "stream",
     "text": [
      "/home/marcelo/.local/lib/python3.10/site-packages/tqdm/auto.py:21: TqdmWarning: IProgress not found. Please update jupyter and ipywidgets. See https://ipywidgets.readthedocs.io/en/stable/user_install.html\n",
      "  from .autonotebook import tqdm as notebook_tqdm\n"
     ]
    },
    {
     "name": "stdout",
     "output_type": "stream",
     "text": [
      "2.4.0\n"
     ]
    }
   ],
   "source": [
    "import dgl\n",
    "print(dgl.__version__)"
   ]
  },
  {
   "cell_type": "code",
   "execution_count": 3,
   "id": "5da44c2d",
   "metadata": {},
   "outputs": [],
   "source": [
    "import os\n",
    "\n",
    "os.environ['TORCH'] = torch.__version__\n",
    "os.environ['DGLBACKEND'] = \"pytorch\""
   ]
  },
  {
   "cell_type": "code",
   "execution_count": 40,
   "id": "5b0ef200",
   "metadata": {},
   "outputs": [],
   "source": [
    "import dgl.sparse as dglsp\n",
    "\n",
    "import torch.nn as nn\n",
    "import torch.nn.functional as F\n",
    "import tqdm\n",
    "from dgl.data import CiteseerGraphDataset\n",
    "from torchmetrics.functional import accuracy\n",
    "\n",
    "\n",
    "class HGNN(nn.Module):\n",
    "    def __init__(self, H, in_size, out_size, hidden_dims=32):\n",
    "        super().__init__()\n",
    "\n",
    "        self.W1 = nn.Linear(in_size, hidden_dims)\n",
    "        self.W2 = nn.Linear(hidden_dims, out_size)\n",
    "        self.dropout = nn.Dropout(0.5)\n",
    "\n",
    "        ###########################################################\n",
    "        # (HIGHLIGHT) Compute the Laplacian with Sparse Matrix API\n",
    "        ###########################################################\n",
    "        # Compute node degree.\n",
    "        d_V = H.sum(1)\n",
    "        # Compute edge degree.\n",
    "        d_E = H.sum(0)\n",
    "        # Compute the inverse of the square root of the diagonal D_v.\n",
    "        D_v_invsqrt = dglsp.diag(d_V**-0.5)\n",
    "        # Compute the inverse of the diagonal D_e.\n",
    "        D_e_inv = dglsp.diag(d_E**-1)\n",
    "        # In our example, B is an identity matrix.\n",
    "        n_edges = d_E.shape[0]\n",
    "        W = dglsp.identity((n_edges, n_edges))\n",
    "        # Compute Laplacian from the equation above.\n",
    "        self.L = D_v_invsqrt @ H @ W @ D_e_inv @ H.T @ D_v_invsqrt\n",
    "\n",
    "    def forward(self, X):\n",
    "        X = self.L @ self.W1(self.dropout(X))\n",
    "        X = F.relu(X)\n",
    "        X = self.L @ self.W2(self.dropout(X))\n",
    "        return X"
   ]
  },
  {
   "cell_type": "code",
   "execution_count": 41,
   "id": "7da1aafa",
   "metadata": {},
   "outputs": [],
   "source": [
    "def load_data():\n",
    "    dataset = CiteseerGraphDataset()\n",
    "\n",
    "    graph = dataset[0]\n",
    "    indices = torch.stack(graph.edges())\n",
    "    H = dglsp.spmatrix(indices)\n",
    "    H = H + dglsp.identity(H.shape)\n",
    "\n",
    "    X = graph.ndata[\"feat\"]\n",
    "    Y = graph.ndata[\"label\"]\n",
    "    train_mask = graph.ndata[\"train_mask\"]\n",
    "    val_mask = graph.ndata[\"val_mask\"]\n",
    "    test_mask = graph.ndata[\"test_mask\"]\n",
    "    return H, X, Y, dataset.num_classes, train_mask, val_mask, test_mask"
   ]
  },
  {
   "cell_type": "code",
   "execution_count": 42,
   "id": "4dfbdf0d",
   "metadata": {},
   "outputs": [],
   "source": [
    "def train(model, optimizer, X, Y, train_mask):\n",
    "    model.train()\n",
    "    Y_hat = model(X)\n",
    "    loss = F.cross_entropy(Y_hat[train_mask], Y[train_mask])\n",
    "    optimizer.zero_grad()\n",
    "    loss.backward()\n",
    "    optimizer.step()\n",
    "\n",
    "\n",
    "def evaluate(model, X, Y, val_mask, test_mask, num_classes):\n",
    "    model.eval()\n",
    "    Y_hat = model(X)\n",
    "    val_acc = accuracy(\n",
    "        Y_hat[val_mask], Y[val_mask], task=\"multiclass\", num_classes=num_classes\n",
    "    )\n",
    "    test_acc = accuracy(\n",
    "        Y_hat[test_mask],\n",
    "        Y[test_mask],\n",
    "        task=\"multiclass\",\n",
    "        num_classes=num_classes,\n",
    "    )\n",
    "    return val_acc, test_acc"
   ]
  },
  {
   "cell_type": "code",
   "execution_count": 43,
   "id": "8c274586",
   "metadata": {},
   "outputs": [
    {
     "name": "stdout",
     "output_type": "stream",
     "text": [
      "  NumNodes: 3327\n",
      "  NumEdges: 9228\n",
      "  NumFeats: 3703\n",
      "  NumClasses: 6\n",
      "  NumTrainingSamples: 120\n",
      "  NumValidationSamples: 500\n",
      "  NumTestSamples: 1000\n",
      "Done loading data from cached files.\n"
     ]
    },
    {
     "name": "stderr",
     "output_type": "stream",
     "text": [
      "100%|████████████████████████████████████████████████████████████████████| 500/500 [00:20<00:00, 24.19it/s, Val acc=0.70400, Test acc=0.70800]"
     ]
    },
    {
     "name": "stdout",
     "output_type": "stream",
     "text": [
      "Test acc: 0.708\n"
     ]
    },
    {
     "name": "stderr",
     "output_type": "stream",
     "text": [
      "\n"
     ]
    }
   ],
   "source": [
    "H, X, Y, num_classes, train_mask, val_mask, test_mask = load_data()\n",
    "model = HGNN(H, X.shape[1], num_classes)\n",
    "optimizer = torch.optim.Adam(model.parameters(), lr=0.001)\n",
    "\n",
    "with tqdm.trange(500) as tq:\n",
    "    for epoch in tq:\n",
    "        train(model, optimizer, X, Y, train_mask)\n",
    "        val_acc, test_acc = evaluate(\n",
    "            model, X, Y, val_mask, test_mask, num_classes\n",
    "        )\n",
    "        tq.set_postfix(\n",
    "            {\n",
    "                \"Val acc\": f\"{val_acc:.5f}\",\n",
    "                \"Test acc\": f\"{test_acc:.5f}\",\n",
    "            },\n",
    "            refresh=False,\n",
    "        )\n",
    "\n",
    "print(f\"Test acc: {test_acc:.3f}\")"
   ]
  },
  {
   "cell_type": "code",
   "execution_count": null,
   "id": "526af471",
   "metadata": {},
   "outputs": [],
   "source": []
  }
 ],
 "metadata": {
  "kernelspec": {
   "display_name": "Python 3 (ipykernel)",
   "language": "python",
   "name": "python3"
  },
  "language_info": {
   "codemirror_mode": {
    "name": "ipython",
    "version": 3
   },
   "file_extension": ".py",
   "mimetype": "text/x-python",
   "name": "python",
   "nbconvert_exporter": "python",
   "pygments_lexer": "ipython3",
   "version": "3.8.19"
  }
 },
 "nbformat": 4,
 "nbformat_minor": 5
}
