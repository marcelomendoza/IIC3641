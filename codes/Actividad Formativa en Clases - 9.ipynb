{
 "cells": [
  {
   "cell_type": "markdown",
   "id": "39e0e42c",
   "metadata": {},
   "source": [
    "# IIC-3641 GML UC"
   ]
  },
  {
   "cell_type": "markdown",
   "id": "d6d67e24-ad70-4e3d-ad62-98629137df29",
   "metadata": {},
   "source": [
    "## Actividad en clase\n",
    "\n",
    "Vamos a usar el modelo GIN para trabajar en esta actividad.\n",
    "\n",
    "- Corra el modelo GIN y vea que puede reproducir el ejemplo de la clase.\n",
    "- Use el dataset **imdb-binary** que viene en TUDataset. \n",
    "- Entrene el modelo GIN. Evalúe.\n",
    "- Cuanto termine, me avisa para entregarle una **L (logrado)**.\n",
    "- Recuerde que las L otorgan un bono en la nota final de la asignatura.\n",
    "\n",
    "***Tiene hasta el final de la clase.***"
   ]
  },
  {
   "cell_type": "code",
   "execution_count": 1,
   "id": "7a576565",
   "metadata": {},
   "outputs": [
    {
     "name": "stdout",
     "output_type": "stream",
     "text": [
      "2.4.1+cu118\n"
     ]
    }
   ],
   "source": [
    "import torch\n",
    "print(torch.__version__)\n",
    "\n",
    "device = torch.device('cuda')"
   ]
  },
  {
   "cell_type": "code",
   "execution_count": 2,
   "id": "de3e34a4",
   "metadata": {},
   "outputs": [
    {
     "name": "stderr",
     "output_type": "stream",
     "text": [
      "/home/marcelo/.local/lib/python3.8/site-packages/torch_geometric/typing.py:68: UserWarning: An issue occurred while importing 'pyg-lib'. Disabling its usage. Stacktrace: /home/marcelo/.local/lib/python3.8/site-packages/libpyg.so: undefined symbol: _ZN2at4_ops10zeros_like4callERKNS_6TensorEN3c108optionalINS5_10ScalarTypeEEENS6_INS5_6LayoutEEENS6_INS5_6DeviceEEENS6_IbEENS6_INS5_12MemoryFormatEEE\n",
      "  warnings.warn(f\"An issue occurred while importing 'pyg-lib'. \"\n",
      "/home/marcelo/.local/lib/python3.8/site-packages/torch_geometric/typing.py:86: UserWarning: An issue occurred while importing 'torch-scatter'. Disabling its usage. Stacktrace: /home/marcelo/.local/lib/python3.8/site-packages/torch_scatter/_version_cuda.so: undefined symbol: _ZN3c1017RegisterOperatorsD1Ev\n",
      "  warnings.warn(f\"An issue occurred while importing 'torch-scatter'. \"\n",
      "/home/marcelo/.local/lib/python3.8/site-packages/torch_geometric/typing.py:97: UserWarning: An issue occurred while importing 'torch-cluster'. Disabling its usage. Stacktrace: /home/marcelo/.local/lib/python3.8/site-packages/torch_cluster/_version_cuda.so: undefined symbol: _ZN3c1017RegisterOperatorsD1Ev\n",
      "  warnings.warn(f\"An issue occurred while importing 'torch-cluster'. \"\n",
      "/home/marcelo/.local/lib/python3.8/site-packages/torch_geometric/typing.py:113: UserWarning: An issue occurred while importing 'torch-spline-conv'. Disabling its usage. Stacktrace: /home/marcelo/.local/lib/python3.8/site-packages/torch_spline_conv/_version_cuda.so: undefined symbol: _ZN3c1017RegisterOperatorsD1Ev\n",
      "  warnings.warn(\n",
      "/home/marcelo/.local/lib/python3.8/site-packages/torch_geometric/typing.py:124: UserWarning: An issue occurred while importing 'torch-sparse'. Disabling its usage. Stacktrace: /home/marcelo/.local/lib/python3.8/site-packages/torch_sparse/_version_cuda.so: undefined symbol: _ZN3c1017RegisterOperatorsD1Ev\n",
      "  warnings.warn(f\"An issue occurred while importing 'torch-sparse'. \"\n",
      "/home/marcelo/.local/lib/python3.8/site-packages/transformers/utils/generic.py:441: FutureWarning: `torch.utils._pytree._register_pytree_node` is deprecated. Please use `torch.utils._pytree.register_pytree_node` instead.\n",
      "  _torch_pytree._register_pytree_node(\n",
      "Downloading https://www.chrsmrrs.com/graphkerneldatasets/IMDB-BINARY.zip\n",
      "Processing...\n",
      "Done!\n",
      "/home/marcelo/.local/lib/python3.8/site-packages/torch_geometric/data/in_memory_dataset.py:300: UserWarning: It is not recommended to directly access the internal storage format `data` of an 'InMemoryDataset'. If you are absolutely certain what you are doing, access the internal storage via `InMemoryDataset._data` instead to suppress this warning. Alternatively, you can access stacked individual attributes of every graph via `dataset.{attr_name}`.\n",
      "  warnings.warn(msg)\n"
     ]
    }
   ],
   "source": [
    "import os\n",
    "import torch.nn.functional as F\n",
    "import torch_geometric.transforms as T\n",
    "from torch.nn import BatchNorm1d as BN\n",
    "from torch.nn import Linear, ReLU, Sequential\n",
    "from torch.optim import Adam\n",
    "from torch_geometric.datasets import TUDataset\n",
    "from torch_geometric.loader import DataLoader\n",
    "from torch_geometric.nn import GINConv, global_mean_pool\n",
    "from torch_geometric.utils import degree\n",
    "\n",
    "dataset = TUDataset(\"data/\", \"IMDB-BINARY\", cleaned=False)\n",
    "dataset.data.edge_attr = None"
   ]
  },
  {
   "cell_type": "code",
   "execution_count": 3,
   "id": "114308d1",
   "metadata": {},
   "outputs": [],
   "source": [
    "class NormalizedDegree:\n",
    "    def __init__(self, mean, std):\n",
    "        self.mean = mean\n",
    "        self.std = std\n",
    "\n",
    "    def __call__(self, data):\n",
    "        deg = degree(data.edge_index[0], dtype=torch.float)\n",
    "        deg = (deg - self.mean) / self.std\n",
    "        data.x = deg.view(-1, 1)\n",
    "        return data\n",
    "\n"
   ]
  },
  {
   "cell_type": "code",
   "execution_count": 4,
   "id": "9798b219",
   "metadata": {},
   "outputs": [
    {
     "name": "stdout",
     "output_type": "stream",
     "text": [
      "135\n"
     ]
    }
   ],
   "source": [
    "if dataset.data.x is None:\n",
    "    max_degree = 0\n",
    "    degs = []\n",
    "    for data in dataset:\n",
    "        degs += [degree(data.edge_index[0], dtype=torch.long)]\n",
    "        max_degree = max(max_degree, degs[-1].max().item())\n",
    "\n",
    "    print(max_degree)\n",
    "\n",
    "    if max_degree < 1000:\n",
    "        dataset.transform = T.OneHotDegree(max_degree)\n",
    "    else:\n",
    "        deg = torch.cat(degs, dim=0).to(torch.float)\n",
    "        mean, std = deg.mean().item(), deg.std().item()\n",
    "        dataset.transform = NormalizedDegree(mean, std)\n",
    "        \n",
    "train_loader = DataLoader(dataset, batch_size=32, shuffle=True)"
   ]
  },
  {
   "cell_type": "code",
   "execution_count": 5,
   "id": "ea4cb7f0",
   "metadata": {},
   "outputs": [],
   "source": [
    "def num_graphs(data):\n",
    "    if hasattr(data, \"num_graphs\"):\n",
    "        return data.num_graphs\n",
    "    else:\n",
    "        return data.x.size(0)"
   ]
  },
  {
   "cell_type": "code",
   "execution_count": 6,
   "id": "79a0d8db",
   "metadata": {},
   "outputs": [],
   "source": [
    "class GIN0(torch.nn.Module):\n",
    "    def __init__(self, dataset, num_layers, hidden):\n",
    "        super().__init__()\n",
    "        self.conv1 = GINConv(\n",
    "            Sequential(\n",
    "                Linear(dataset.num_features, hidden),\n",
    "                ReLU(),\n",
    "                Linear(hidden, hidden),\n",
    "                ReLU(),\n",
    "                BN(hidden),\n",
    "            ),\n",
    "            train_eps=False,\n",
    "        )\n",
    "        self.convs = torch.nn.ModuleList()\n",
    "        for i in range(num_layers - 1):\n",
    "            self.convs.append(\n",
    "                GINConv(\n",
    "                    Sequential(\n",
    "                        Linear(hidden, hidden),\n",
    "                        ReLU(),\n",
    "                        Linear(hidden, hidden),\n",
    "                        ReLU(),\n",
    "                        BN(hidden),\n",
    "                    ),\n",
    "                    train_eps=False,\n",
    "                )\n",
    "            )\n",
    "        self.lin1 = Linear(hidden, hidden)\n",
    "        self.lin2 = Linear(hidden, dataset.num_classes)\n",
    "\n",
    "    def reset_parameters(self):\n",
    "        self.conv1.reset_parameters()\n",
    "        for conv in self.convs:\n",
    "            conv.reset_parameters()\n",
    "        self.lin1.reset_parameters()\n",
    "        self.lin2.reset_parameters()\n",
    "\n",
    "    def forward(self, data):\n",
    "        x, edge_index, batch = data.x, data.edge_index, data.batch\n",
    "        x = self.conv1(x, edge_index)\n",
    "        for conv in self.convs:\n",
    "            x = conv(x, edge_index)\n",
    "        x = global_mean_pool(x, batch)\n",
    "        x = F.relu(self.lin1(x))\n",
    "        x = F.dropout(x, p=0.5, training=self.training)\n",
    "        x = self.lin2(x)\n",
    "        return F.log_softmax(x, dim=-1)\n",
    "\n",
    "\n",
    "# model = GIN0(dataset, config.num_layers, config.latent_dim)\n",
    "model = GIN0(dataset, 5, 32)"
   ]
  },
  {
   "cell_type": "code",
   "execution_count": 7,
   "id": "aeeccccc",
   "metadata": {},
   "outputs": [],
   "source": [
    "def train(model, optimizer, loader):\n",
    "    model.train()\n",
    "\n",
    "    total_loss = 0\n",
    "    for data in loader:\n",
    "        optimizer.zero_grad()\n",
    "        data = data.to(device)\n",
    "        out = model(data)\n",
    "        loss = F.nll_loss(out, data.y.view(-1))\n",
    "        loss.backward()\n",
    "        total_loss += loss.item() * num_graphs(data)\n",
    "        optimizer.step()\n",
    "    return total_loss / len(loader.dataset)\n",
    "\n",
    "\n",
    "def eval(model, loader):\n",
    "    model.eval()\n",
    "\n",
    "    correct = 0\n",
    "    for data in loader:\n",
    "        data = data.to(device)\n",
    "        with torch.no_grad():\n",
    "            pred = model(data).max(1)[1]\n",
    "        correct += pred.eq(data.y.view(-1)).sum().item()\n",
    "    return correct / len(loader.dataset)"
   ]
  },
  {
   "cell_type": "code",
   "execution_count": 8,
   "id": "1470b006",
   "metadata": {},
   "outputs": [
    {
     "name": "stdout",
     "output_type": "stream",
     "text": [
      "Epoch: 1 Training Loss:  0.6775359263420105 Training Acc:  0.717\n",
      "Epoch: 2 Training Loss:  0.6251230449676514 Training Acc:  0.718\n",
      "Epoch: 3 Training Loss:  0.591374265909195 Training Acc:  0.705\n",
      "Epoch: 4 Training Loss:  0.6035452876091003 Training Acc:  0.675\n",
      "Epoch: 5 Training Loss:  0.5860662040710449 Training Acc:  0.721\n",
      "Epoch: 6 Training Loss:  0.5916634163856507 Training Acc:  0.724\n",
      "Epoch: 7 Training Loss:  0.5866223349571228 Training Acc:  0.707\n",
      "Epoch: 8 Training Loss:  0.5779521317481995 Training Acc:  0.71\n",
      "Epoch: 9 Training Loss:  0.581490930557251 Training Acc:  0.724\n",
      "Epoch: 10 Training Loss:  0.5866789922714234 Training Acc:  0.704\n",
      "Epoch: 11 Training Loss:  0.5698707323074341 Training Acc:  0.74\n",
      "Epoch: 12 Training Loss:  0.56762593126297 Training Acc:  0.727\n",
      "Epoch: 13 Training Loss:  0.5723421115875245 Training Acc:  0.734\n",
      "Epoch: 14 Training Loss:  0.5539430947303772 Training Acc:  0.741\n",
      "Epoch: 15 Training Loss:  0.5754005908966064 Training Acc:  0.729\n",
      "Epoch: 16 Training Loss:  0.547752902507782 Training Acc:  0.75\n",
      "Epoch: 17 Training Loss:  0.5332331247329712 Training Acc:  0.754\n",
      "Epoch: 18 Training Loss:  0.49325649309158326 Training Acc:  0.736\n",
      "Epoch: 19 Training Loss:  0.5209063563346863 Training Acc:  0.764\n",
      "Epoch: 20 Training Loss:  0.5301303160190582 Training Acc:  0.764\n",
      "Epoch: 21 Training Loss:  0.5063880453109741 Training Acc:  0.736\n",
      "Epoch: 22 Training Loss:  0.5153732163906097 Training Acc:  0.754\n",
      "Epoch: 23 Training Loss:  0.5059994101524353 Training Acc:  0.762\n",
      "Epoch: 24 Training Loss:  0.5058177371025085 Training Acc:  0.767\n",
      "Epoch: 25 Training Loss:  0.49320255732536317 Training Acc:  0.772\n",
      "Epoch: 26 Training Loss:  0.5203960270881652 Training Acc:  0.766\n",
      "Epoch: 27 Training Loss:  0.4915730791091919 Training Acc:  0.775\n",
      "Epoch: 28 Training Loss:  0.4866907510757446 Training Acc:  0.774\n",
      "Epoch: 29 Training Loss:  0.5100589928627014 Training Acc:  0.774\n",
      "Epoch: 30 Training Loss:  0.49043186283111573 Training Acc:  0.752\n",
      "Epoch: 31 Training Loss:  0.5364465570449829 Training Acc:  0.781\n",
      "Epoch: 32 Training Loss:  0.4992971317768097 Training Acc:  0.776\n",
      "Epoch: 33 Training Loss:  0.4838174543380737 Training Acc:  0.774\n",
      "Epoch: 34 Training Loss:  0.47331769919395444 Training Acc:  0.75\n",
      "Epoch: 35 Training Loss:  0.511712212562561 Training Acc:  0.769\n",
      "Epoch: 36 Training Loss:  0.5284561333656311 Training Acc:  0.77\n",
      "Epoch: 37 Training Loss:  0.4989659910202026 Training Acc:  0.774\n",
      "Epoch: 38 Training Loss:  0.4829221134185791 Training Acc:  0.782\n",
      "Epoch: 39 Training Loss:  0.4964746377468109 Training Acc:  0.778\n",
      "Epoch: 40 Training Loss:  0.517898832321167 Training Acc:  0.773\n",
      "Epoch: 41 Training Loss:  0.48867652082443236 Training Acc:  0.786\n",
      "Epoch: 42 Training Loss:  0.4733454203605652 Training Acc:  0.777\n",
      "Epoch: 43 Training Loss:  0.48381060075759885 Training Acc:  0.758\n",
      "Epoch: 44 Training Loss:  0.4862631120681763 Training Acc:  0.789\n",
      "Epoch: 45 Training Loss:  0.4705100257396698 Training Acc:  0.787\n",
      "Epoch: 46 Training Loss:  0.4473710126876831 Training Acc:  0.772\n",
      "Epoch: 47 Training Loss:  0.5205071983337403 Training Acc:  0.757\n",
      "Epoch: 48 Training Loss:  0.5662536144256591 Training Acc:  0.754\n",
      "Epoch: 49 Training Loss:  0.5354003286361695 Training Acc:  0.769\n",
      "Epoch: 50 Training Loss:  0.49403605437278747 Training Acc:  0.73\n"
     ]
    }
   ],
   "source": [
    "model.to(device).reset_parameters()\n",
    "optimizer = Adam(model.parameters(), lr=0.01)\n",
    "\n",
    "for epoch in range(1, 50 + 1):\n",
    "    train_loss = train(model, optimizer, train_loader)\n",
    "    train_acc = eval(model, train_loader)\n",
    "    print(\"Epoch:\", epoch,\"Training Loss: \", train_loss, \"Training Acc: \", train_acc)"
   ]
  },
  {
   "cell_type": "code",
   "execution_count": null,
   "id": "883ad80a",
   "metadata": {},
   "outputs": [],
   "source": []
  }
 ],
 "metadata": {
  "kernelspec": {
   "display_name": "Python 3 (ipykernel)",
   "language": "python",
   "name": "python3"
  },
  "language_info": {
   "codemirror_mode": {
    "name": "ipython",
    "version": 3
   },
   "file_extension": ".py",
   "mimetype": "text/x-python",
   "name": "python",
   "nbconvert_exporter": "python",
   "pygments_lexer": "ipython3",
   "version": "3.11.9"
  }
 },
 "nbformat": 4,
 "nbformat_minor": 5
}
