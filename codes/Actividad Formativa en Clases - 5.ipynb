{
 "cells": [
  {
   "cell_type": "markdown",
   "id": "49178600",
   "metadata": {},
   "source": [
    "# IIC-3641 GML UC"
   ]
  },
  {
   "cell_type": "markdown",
   "id": "3ec2945a",
   "metadata": {
    "jp-MarkdownHeadingCollapsed": true
   },
   "source": [
    "## Actividad en clase\n",
    "\n",
    "Vamos a usar GCN para trabajar con el dataset CORA:\n",
    "\n",
    "- Modifique la arquitectura de la clase Net hasta lograr que el accuracy sea mejor que el que mostré en clases.\n",
    "- Defina una función de early stopping que guarde los modelos cuando se obtengan mejoras en la función de pérdida. Puede detener el entrenamiento con un parámetro patience que hace un break si no se obtienen mejoras despues de una cantidad determinada de epochs.\n",
    "- Grafique las funciones de pérdida y de accuracy.\n",
    "- Cuanto termine, me avisa para entregarle una **L (logrado)**.\n",
    "- Recuerde que las L otorgan un bono en la nota final de la asignatura.\n",
    "\n",
    "***Tiene hasta el final de la clase.***"
   ]
  },
  {
   "cell_type": "code",
   "execution_count": 1,
   "id": "d3e0e96e-294c-4bb9-8a4a-94f629c4ebde",
   "metadata": {},
   "outputs": [
    {
     "name": "stdout",
     "output_type": "stream",
     "text": [
      "2.4.1+cu118\n"
     ]
    }
   ],
   "source": [
    "import torch\n",
    "print(torch.__version__)"
   ]
  },
  {
   "cell_type": "code",
   "execution_count": 2,
   "id": "1ebe864e",
   "metadata": {},
   "outputs": [],
   "source": [
    "import os\n",
    "\n",
    "os.environ[\"DGLBACKEND\"] = \"pytorch\"\n",
    "import dgl\n",
    "import dgl.function as fn\n",
    "import torch as th\n",
    "import torch.nn as nn\n",
    "import torch.nn.functional as F\n",
    "from dgl import DGLGraph\n",
    "import time\n",
    "import numpy as np\n",
    "\n",
    "gcn_msg = fn.copy_u(u=\"h\", out=\"m\")\n",
    "gcn_reduce = fn.sum(msg=\"m\", out=\"h\")"
   ]
  },
  {
   "cell_type": "code",
   "execution_count": 3,
   "id": "29224508",
   "metadata": {},
   "outputs": [],
   "source": [
    "from dgl.data import CoraGraphDataset\n",
    "\n",
    "\n",
    "def load_cora_data():\n",
    "    dataset = CoraGraphDataset()\n",
    "    g = dataset[0]\n",
    "    features = g.ndata[\"feat\"]\n",
    "    labels = g.ndata[\"label\"]\n",
    "    train_mask = g.ndata[\"train_mask\"]\n",
    "    test_mask = g.ndata[\"test_mask\"]\n",
    "    return g, features, labels, train_mask, test_mask"
   ]
  },
  {
   "cell_type": "code",
   "execution_count": 4,
   "id": "4775cb27",
   "metadata": {},
   "outputs": [
    {
     "name": "stdout",
     "output_type": "stream",
     "text": [
      "  NumNodes: 2708\n",
      "  NumEdges: 10556\n",
      "  NumFeats: 1433\n",
      "  NumClasses: 7\n",
      "  NumTrainingSamples: 140\n",
      "  NumValidationSamples: 500\n",
      "  NumTestSamples: 1000\n",
      "Done loading data from cached files.\n"
     ]
    }
   ],
   "source": [
    "g, features, labels, train_mask, test_mask = load_cora_data()\n",
    "g.add_edges(g.nodes(), g.nodes())"
   ]
  },
  {
   "cell_type": "code",
   "execution_count": 5,
   "id": "88f3e7ab",
   "metadata": {},
   "outputs": [],
   "source": [
    "class GCNLayer(nn.Module):\n",
    "    def __init__(self, in_feats, out_feats):\n",
    "        super(GCNLayer, self).__init__()\n",
    "        self.linear = nn.Linear(in_feats, out_feats)\n",
    "\n",
    "    def forward(self, g, feature):\n",
    "        with g.local_scope():\n",
    "            g.ndata[\"h\"] = feature\n",
    "            g.update_all(gcn_msg, gcn_reduce)\n",
    "            h = g.ndata[\"h\"]\n",
    "            return self.linear(h)"
   ]
  },
  {
   "cell_type": "code",
   "execution_count": 6,
   "id": "75659447",
   "metadata": {},
   "outputs": [
    {
     "name": "stdout",
     "output_type": "stream",
     "text": [
      "Net(\n",
      "  (layer1): GCNLayer(\n",
      "    (linear): Linear(in_features=1433, out_features=64, bias=True)\n",
      "  )\n",
      "  (layer2): GCNLayer(\n",
      "    (linear): Linear(in_features=64, out_features=7, bias=True)\n",
      "  )\n",
      ")\n"
     ]
    }
   ],
   "source": [
    "class Net(nn.Module):\n",
    "    def __init__(self):\n",
    "        super(Net, self).__init__()\n",
    "        self.layer1 = GCNLayer(1433, 64)\n",
    "        self.layer2 = GCNLayer(64, 7)\n",
    "\n",
    "    def forward(self, g, features):\n",
    "        x = F.relu(self.layer1(g, features))\n",
    "        x = self.layer2(g, x)\n",
    "        return x\n",
    "\n",
    "\n",
    "net = Net()\n",
    "print(net)"
   ]
  },
  {
   "cell_type": "code",
   "execution_count": 7,
   "id": "17bdf514",
   "metadata": {},
   "outputs": [],
   "source": [
    "def evaluate(model, g, features, labels, mask):\n",
    "    model.eval()\n",
    "    with th.no_grad():\n",
    "        logits = model(g, features)\n",
    "        logits = logits[mask]\n",
    "        labels = labels[mask]\n",
    "        _, indices = th.max(logits, dim=1)\n",
    "        correct = th.sum(indices == labels)\n",
    "        return correct.item() * 1.0 / len(labels)"
   ]
  },
  {
   "cell_type": "code",
   "execution_count": 8,
   "id": "60918a7a",
   "metadata": {},
   "outputs": [],
   "source": [
    "class EarlyStopping:\n",
    "    def __init__(self, patience=5, delta=0, path='best_model.pth'):\n",
    "        \"\"\"\n",
    "        Args:\n",
    "            patience (int): Número de épocas que esperará sin mejora antes de detener el entrenamiento.\n",
    "            delta (float): Mínima mejora requerida para ser considerada una mejora.\n",
    "            path (str): Ruta para guardar el mejor modelo.\n",
    "        \"\"\"\n",
    "        self.patience = patience\n",
    "        self.delta = delta\n",
    "        self.path = path\n",
    "        self.counter = 0\n",
    "        self.best_score = None\n",
    "        self.early_stop = False\n",
    "        self.val_loss_min = float('inf')\n",
    "\n",
    "    def __call__(self, val_loss, model):\n",
    "        score = -val_loss\n",
    "\n",
    "        if self.best_score is None:\n",
    "            self.best_score = score\n",
    "            self.save_checkpoint(val_loss, model)\n",
    "        elif score < self.best_score + self.delta:\n",
    "            self.counter += 1\n",
    "            print(f'EarlyStopping counter: {self.counter} out of {self.patience}')\n",
    "            if self.counter >= self.patience:\n",
    "                self.early_stop = True\n",
    "        else:\n",
    "            self.best_score = score\n",
    "            self.save_checkpoint(val_loss, model)\n",
    "            self.counter = 0\n",
    "\n",
    "    def save_checkpoint(self, val_loss, model):\n",
    "        '''Guarda el mejor modelo cuando ocurre una mejora en la pérdida de validación.'''\n",
    "        print(f'Validation loss decreased ({self.val_loss_min:.6f} --> {val_loss:.6f}). Saving model...')\n",
    "        torch.save(model.state_dict(), self.path)\n",
    "        self.val_loss_min = val_loss\n",
    "\n",
    "# Uso en el ciclo de entrenamiento:\n",
    "early_stopping = EarlyStopping(patience=3, delta=0.001)"
   ]
  },
  {
   "cell_type": "code",
   "execution_count": 9,
   "id": "fc3de577",
   "metadata": {},
   "outputs": [
    {
     "name": "stdout",
     "output_type": "stream",
     "text": [
      "Epoch 00000 | Loss 1.9538 | Test Acc 0.2270 | Time(s) 0.0183\n",
      "Validation loss decreased (inf --> 1.953823). Saving model...\n",
      "Epoch 00001 | Loss 1.6977 | Test Acc 0.5530 | Time(s) 0.0123\n",
      "Validation loss decreased (1.953823 --> 1.697688). Saving model...\n",
      "Epoch 00002 | Loss 1.4845 | Test Acc 0.7360 | Time(s) 0.0100\n",
      "Validation loss decreased (1.697688 --> 1.484530). Saving model...\n",
      "Epoch 00003 | Loss 1.2885 | Test Acc 0.7730 | Time(s) 0.0089\n",
      "Validation loss decreased (1.484530 --> 1.288514). Saving model...\n",
      "Epoch 00004 | Loss 1.0977 | Test Acc 0.7670 | Time(s) 0.0082\n",
      "Validation loss decreased (1.288514 --> 1.097701). Saving model...\n",
      "Epoch 00005 | Loss 0.9308 | Test Acc 0.7620 | Time(s) 0.0077\n",
      "Validation loss decreased (1.097701 --> 0.930785). Saving model...\n",
      "Epoch 00006 | Loss 0.7941 | Test Acc 0.7580 | Time(s) 0.0074\n",
      "Validation loss decreased (0.930785 --> 0.794141). Saving model...\n",
      "Epoch 00007 | Loss 0.6744 | Test Acc 0.7610 | Time(s) 0.0072\n",
      "Validation loss decreased (0.794141 --> 0.674374). Saving model...\n",
      "Epoch 00008 | Loss 0.5707 | Test Acc 0.7510 | Time(s) 0.0071\n",
      "Validation loss decreased (0.674374 --> 0.570706). Saving model...\n",
      "Epoch 00009 | Loss 0.4834 | Test Acc 0.7580 | Time(s) 0.0069\n",
      "Validation loss decreased (0.570706 --> 0.483398). Saving model...\n",
      "Epoch 00010 | Loss 0.4098 | Test Acc 0.7610 | Time(s) 0.0068\n",
      "Validation loss decreased (0.483398 --> 0.409754). Saving model...\n",
      "Epoch 00011 | Loss 0.3434 | Test Acc 0.7610 | Time(s) 0.0067\n",
      "Validation loss decreased (0.409754 --> 0.343352). Saving model...\n",
      "Epoch 00012 | Loss 0.2875 | Test Acc 0.7560 | Time(s) 0.0066\n",
      "Validation loss decreased (0.343352 --> 0.287522). Saving model...\n",
      "Epoch 00013 | Loss 0.2424 | Test Acc 0.7580 | Time(s) 0.0065\n",
      "Validation loss decreased (0.287522 --> 0.242354). Saving model...\n",
      "Epoch 00014 | Loss 0.2043 | Test Acc 0.7660 | Time(s) 0.0064\n",
      "Validation loss decreased (0.242354 --> 0.204286). Saving model...\n",
      "Epoch 00015 | Loss 0.1721 | Test Acc 0.7700 | Time(s) 0.0064\n",
      "Validation loss decreased (0.204286 --> 0.172077). Saving model...\n",
      "Epoch 00016 | Loss 0.1450 | Test Acc 0.7690 | Time(s) 0.0063\n",
      "Validation loss decreased (0.172077 --> 0.144960). Saving model...\n",
      "Epoch 00017 | Loss 0.1219 | Test Acc 0.7700 | Time(s) 0.0063\n",
      "Validation loss decreased (0.144960 --> 0.121899). Saving model...\n",
      "Epoch 00018 | Loss 0.1021 | Test Acc 0.7690 | Time(s) 0.0063\n",
      "Validation loss decreased (0.121899 --> 0.102131). Saving model...\n",
      "Epoch 00019 | Loss 0.0853 | Test Acc 0.7640 | Time(s) 0.0063\n",
      "Validation loss decreased (0.102131 --> 0.085270). Saving model...\n",
      "Epoch 00020 | Loss 0.0710 | Test Acc 0.7630 | Time(s) 0.0063\n",
      "Validation loss decreased (0.085270 --> 0.071003). Saving model...\n",
      "Epoch 00021 | Loss 0.0590 | Test Acc 0.7610 | Time(s) 0.0063\n",
      "Validation loss decreased (0.071003 --> 0.059034). Saving model...\n",
      "Epoch 00022 | Loss 0.0490 | Test Acc 0.7620 | Time(s) 0.0063\n",
      "Validation loss decreased (0.059034 --> 0.049039). Saving model...\n",
      "Epoch 00023 | Loss 0.0407 | Test Acc 0.7600 | Time(s) 0.0062\n",
      "Validation loss decreased (0.049039 --> 0.040736). Saving model...\n",
      "Epoch 00024 | Loss 0.0339 | Test Acc 0.7560 | Time(s) 0.0062\n",
      "Validation loss decreased (0.040736 --> 0.033878). Saving model...\n",
      "Epoch 00025 | Loss 0.0282 | Test Acc 0.7550 | Time(s) 0.0062\n",
      "Validation loss decreased (0.033878 --> 0.028222). Saving model...\n",
      "Epoch 00026 | Loss 0.0236 | Test Acc 0.7540 | Time(s) 0.0062\n",
      "Validation loss decreased (0.028222 --> 0.023552). Saving model...\n",
      "Epoch 00027 | Loss 0.0197 | Test Acc 0.7530 | Time(s) 0.0062\n",
      "Validation loss decreased (0.023552 --> 0.019708). Saving model...\n",
      "Epoch 00028 | Loss 0.0165 | Test Acc 0.7560 | Time(s) 0.0062\n",
      "Validation loss decreased (0.019708 --> 0.016545). Saving model...\n",
      "Epoch 00029 | Loss 0.0140 | Test Acc 0.7580 | Time(s) 0.0062\n",
      "Validation loss decreased (0.016545 --> 0.013956). Saving model...\n",
      "Epoch 00030 | Loss 0.0118 | Test Acc 0.7580 | Time(s) 0.0063\n",
      "Validation loss decreased (0.013956 --> 0.011837). Saving model...\n",
      "Epoch 00031 | Loss 0.0101 | Test Acc 0.7580 | Time(s) 0.0063\n",
      "Validation loss decreased (0.011837 --> 0.010107). Saving model...\n",
      "Epoch 00032 | Loss 0.0087 | Test Acc 0.7580 | Time(s) 0.0063\n",
      "Validation loss decreased (0.010107 --> 0.008692). Saving model...\n",
      "Epoch 00033 | Loss 0.0075 | Test Acc 0.7570 | Time(s) 0.0064\n",
      "Validation loss decreased (0.008692 --> 0.007528). Saving model...\n",
      "Epoch 00034 | Loss 0.0066 | Test Acc 0.7550 | Time(s) 0.0064\n",
      "EarlyStopping counter: 1 out of 3\n",
      "Epoch 00035 | Loss 0.0058 | Test Acc 0.7540 | Time(s) 0.0064\n",
      "Validation loss decreased (0.007528 --> 0.005767). Saving model...\n",
      "Epoch 00036 | Loss 0.0051 | Test Acc 0.7520 | Time(s) 0.0064\n",
      "EarlyStopping counter: 1 out of 3\n",
      "Epoch 00037 | Loss 0.0045 | Test Acc 0.7510 | Time(s) 0.0064\n",
      "Validation loss decreased (0.005767 --> 0.004514). Saving model...\n",
      "Epoch 00038 | Loss 0.0040 | Test Acc 0.7500 | Time(s) 0.0065\n",
      "EarlyStopping counter: 1 out of 3\n",
      "Epoch 00039 | Loss 0.0036 | Test Acc 0.7490 | Time(s) 0.0065\n",
      "EarlyStopping counter: 2 out of 3\n",
      "Epoch 00040 | Loss 0.0032 | Test Acc 0.7490 | Time(s) 0.0065\n",
      "Validation loss decreased (0.004514 --> 0.003234). Saving model...\n",
      "Epoch 00041 | Loss 0.0029 | Test Acc 0.7480 | Time(s) 0.0065\n",
      "EarlyStopping counter: 1 out of 3\n",
      "Epoch 00042 | Loss 0.0027 | Test Acc 0.7460 | Time(s) 0.0065\n",
      "EarlyStopping counter: 2 out of 3\n",
      "Epoch 00043 | Loss 0.0024 | Test Acc 0.7460 | Time(s) 0.0065\n",
      "EarlyStopping counter: 3 out of 3\n",
      "Early stopping\n"
     ]
    }
   ],
   "source": [
    "optimizer = th.optim.Adam(net.parameters(), lr=1e-2)\n",
    "dur = []\n",
    "\n",
    "train_losses = []\n",
    "test_acc = []\n",
    "\n",
    "for epoch in range(50):\n",
    "    if epoch >= 0:\n",
    "        t0 = time.time()\n",
    "    net.train()\n",
    "    logits = net(g, features)\n",
    "    logp = F.log_softmax(logits, 1)\n",
    "    loss = F.nll_loss(logp[train_mask], labels[train_mask])\n",
    "    \n",
    "    train_losses.append(loss.item())\n",
    "\n",
    "    optimizer.zero_grad()\n",
    "    loss.backward()\n",
    "    optimizer.step()\n",
    "\n",
    "    if epoch >= 0:\n",
    "        dur.append(time.time() - t0)\n",
    "    acc = evaluate(net, g, features, labels, test_mask)\n",
    "    print(\n",
    "        \"Epoch {:05d} | Loss {:.4f} | Test Acc {:.4f} | Time(s) {:.4f}\".format(\n",
    "            epoch, loss.item(), acc, np.mean(dur)\n",
    "        )\n",
    "    )\n",
    "    \n",
    "    test_acc.append(acc)\n",
    "    \n",
    "    early_stopping(loss, net)\n",
    "    \n",
    "    if early_stopping.early_stop:\n",
    "        print(\"Early stopping\")\n",
    "        break\n",
    "    "
   ]
  },
  {
   "cell_type": "code",
   "execution_count": 10,
   "id": "c88b50a7",
   "metadata": {},
   "outputs": [
    {
     "name": "stderr",
     "output_type": "stream",
     "text": [
      "/tmp/ipykernel_1427610/2640716579.py:1: FutureWarning: You are using `torch.load` with `weights_only=False` (the current default value), which uses the default pickle module implicitly. It is possible to construct malicious pickle data which will execute arbitrary code during unpickling (See https://github.com/pytorch/pytorch/blob/main/SECURITY.md#untrusted-models for more details). In a future release, the default value for `weights_only` will be flipped to `True`. This limits the functions that could be executed during unpickling. Arbitrary objects will no longer be allowed to be loaded via this mode unless they are explicitly allowlisted by the user via `torch.serialization.add_safe_globals`. We recommend you start setting `weights_only=True` for any use case where you don't have full control of the loaded file. Please open an issue on GitHub for any issues related to this experimental feature.\n",
      "  net.load_state_dict(torch.load('best_model.pth'))\n"
     ]
    },
    {
     "data": {
      "text/plain": [
       "<All keys matched successfully>"
      ]
     },
     "execution_count": 10,
     "metadata": {},
     "output_type": "execute_result"
    }
   ],
   "source": [
    "net.load_state_dict(torch.load('best_model.pth'))"
   ]
  },
  {
   "cell_type": "code",
   "execution_count": 11,
   "id": "2a1f30c6",
   "metadata": {},
   "outputs": [
    {
     "data": {
      "image/png": "[encoded data removed]",
      "text/plain": [
       "<Figure size 432x288 with 1 Axes>"
      ]
     },
     "metadata": {
      "needs_background": "light"
     },
     "output_type": "display_data"
    }
   ],
   "source": [
    "import matplotlib.pyplot as plt\n",
    "\n",
    "plt.plot(train_losses, label='loss')\n",
    "plt.plot(test_acc, label='accuracy')\n",
    "plt.xlabel('Epoch')\n",
    "plt.legend()\n",
    "plt.show()\n"
   ]
  },
  {
   "cell_type": "code",
   "execution_count": null,
   "id": "b3869c8d",
   "metadata": {},
   "outputs": [],
   "source": []
  }
 ],
 "metadata": {
  "kernelspec": {
   "display_name": "Python 3 (ipykernel)",
   "language": "python",
   "name": "python3"
  },
  "language_info": {
   "codemirror_mode": {
    "name": "ipython",
    "version": 3
   },
   "file_extension": ".py",
   "mimetype": "text/x-python",
   "name": "python",
   "nbconvert_exporter": "python",
   "pygments_lexer": "ipython3",
   "version": "3.11.9"
  }
 },
 "nbformat": 4,
 "nbformat_minor": 5
}
