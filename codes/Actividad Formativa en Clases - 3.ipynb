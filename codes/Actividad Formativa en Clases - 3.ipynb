{
 "cells": [
  {
   "cell_type": "markdown",
   "metadata": {},
   "source": [
    "# IIC-3641 GML UC"
   ]
  },
  {
   "cell_type": "markdown",
   "metadata": {},
   "source": [
    "\n",
    "## Actividad en clase\n",
    "\n",
    "Vamos a medir la función de crecimiento de hubs usando el modelo Barabási-Albert. Para eso haga lo siguiente:\n",
    "\n",
    "- Defina una función que retorna el grado máximo de una red.\n",
    "- Cree varias redes usando el modelo Barabási-Albert de manera que N se mueva en intervalos de decenas desde 10 hasta 10000. Use m=3.\n",
    "- Calcule el $k_{max}$ de cada red.\n",
    "- Plotee la curva $k_{max}$ versus N en ejes log-log.\n",
    "- Ajuste una regresión lineal a la curva y calcule la pendiente. ¿Es consistente con lo que mostrado en la clase?\n",
    "- Cuanto termine, me avisa para entregarle una **L (logrado)**.\n",
    "- Recuerde que las L otorgan un bono en la nota final de la asignatura.\n",
    "\n",
    "***Tiene hasta el final de la clase.***"
   ]
  },
  {
   "cell_type": "markdown",
   "metadata": {},
   "source": [
    "## Defino una función que encuentra el grado máximo de la red"
   ]
  },
  {
   "cell_type": "code",
   "execution_count": 1,
   "metadata": {},
   "outputs": [],
   "source": [
    "def max_degree(G):\n",
    "    node_degrees = dict(G.degree())\n",
    "    degrees = np.array(list(node_degrees.values()))\n",
    "    max_degree = degrees.max()\n",
    "    return max_degree"
   ]
  },
  {
   "cell_type": "code",
   "execution_count": 2,
   "metadata": {},
   "outputs": [],
   "source": [
    "import numpy as np\n",
    "\n",
    "seeds = np.arange(10,10000,10)"
   ]
  },
  {
   "cell_type": "markdown",
   "metadata": {},
   "source": [
    "## Calculo las redes usando el modelo"
   ]
  },
  {
   "cell_type": "code",
   "execution_count": 3,
   "metadata": {},
   "outputs": [],
   "source": [
    "import networkx as nx\n",
    "\n",
    "y = []\n",
    "\n",
    "for N in seeds:\n",
    "    G = nx.barabasi_albert_graph(N, m = 3, seed=None, initial_graph=None)\n",
    "    y_val = max_degree(G)\n",
    "    y.append(y_val)"
   ]
  },
  {
   "cell_type": "code",
   "execution_count": 4,
   "metadata": {},
   "outputs": [],
   "source": [
    "y_ = np.array(y)"
   ]
  },
  {
   "cell_type": "markdown",
   "metadata": {},
   "source": [
    "## Dibujo la curva kmax versus N en eje log-log"
   ]
  },
  {
   "cell_type": "code",
   "execution_count": 5,
   "metadata": {},
   "outputs": [
    {
     "data": {
      "image/png": "[encoded data removed]",
      "text/plain": [
       "<Figure size 288x288 with 1 Axes>"
      ]
     },
     "metadata": {
      "needs_background": "light"
     },
     "output_type": "display_data"
    }
   ],
   "source": [
    "import matplotlib.pyplot as plt\n",
    "\n",
    "plt.figure(figsize=(4, 4))\n",
    "plt.plot(seeds, y_, 'bo-', markersize=8)\n",
    "plt.xscale('log')\n",
    "plt.yscale('log')\n",
    "plt.title('Crecimiento de hubs')\n",
    "plt.xlabel('N')\n",
    "plt.ylabel('kmax')\n",
    "\n",
    "plt.grid(True)\n",
    "plt.show()"
   ]
  },
  {
   "cell_type": "markdown",
   "metadata": {},
   "source": [
    "## Ajusto la regresión lineal"
   ]
  },
  {
   "cell_type": "code",
   "execution_count": 6,
   "metadata": {},
   "outputs": [],
   "source": [
    "from scipy import stats\n",
    "\n",
    "log_N = np.log(seeds)\n",
    "log_kmax = np.log(y_)\n",
    "\n",
    "slope, intercept, r_value, p_value, std_err = stats.linregress(log_N, log_kmax)"
   ]
  },
  {
   "cell_type": "markdown",
   "metadata": {},
   "source": [
    "## Da 1/2, tal cual indica la clase"
   ]
  },
  {
   "cell_type": "code",
   "execution_count": 7,
   "metadata": {},
   "outputs": [
    {
     "data": {
      "text/plain": [
       "0.5090717686312849"
      ]
     },
     "execution_count": 7,
     "metadata": {},
     "output_type": "execute_result"
    }
   ],
   "source": [
    "slope"
   ]
  },
  {
   "cell_type": "code",
   "execution_count": null,
   "metadata": {},
   "outputs": [],
   "source": []
  }
 ],
 "metadata": {
  "kernelspec": {
   "display_name": "Python 3 (ipykernel)",
   "language": "python",
   "name": "python3"
  },
  "language_info": {
   "codemirror_mode": {
    "name": "ipython",
    "version": 3
   },
   "file_extension": ".py",
   "mimetype": "text/x-python",
   "name": "python",
   "nbconvert_exporter": "python",
   "pygments_lexer": "ipython3",
   "version": "3.10.11"
  }
 },
 "nbformat": 4,
 "nbformat_minor": 4
}
